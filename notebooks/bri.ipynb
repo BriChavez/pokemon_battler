{
 "cells": [
  {
   "cell_type": "code",
   "execution_count": 1,
   "metadata": {},
   "outputs": [],
   "source": [
    "from flask import (Flask,\n",
    "                   g,\n",
    "                   redirect,\n",
    "                   render_template,\n",
    "                   request,\n",
    "                   session,\n",
    "                   url_for)\n",
    "\n",
    "\n",
    "\n",
    "                   \n",
    "\"\"\"create flask app\"\"\"\n",
    "app = Flask(__name__)\n",
    "# name our secret key something\n",
    "app.secret_key = 'somesecretkey'\n",
    "\n",
    "\n",
    "\n",
    "\n",
    "@app.route('/query', methods= ['GET', 'POST'])\n",
    "def query():\n",
    "    \"\"\" create a function to log the user in\"\"\"\n",
    "    if request.method == 'POST':\n",
    "        poke_name = request.form['name']\n",
    "        if poke_name in g.poke_df:\n",
    "            return redirect(url_for('profile'))\n",
    "        else:\n",
    "            print('this is not a valid pokemon')\n",
    "\n",
    "\n",
    "    return render_template('login.html')\n",
    "\n",
    "\n",
    "\"\"\"set route for profile \"\"\"\n",
    "\n",
    "\n",
    "@app.route('/profile')\n",
    "def profile():\n",
    "    \"\"\"    sets route for the profile to attach to the template for it\"\"\"\n",
    "    return render_template('profile.html')\n"
   ]
  }
 ],
 "metadata": {
  "interpreter": {
   "hash": "0d6e35bed47359ffcd9c0d06035b9588b9dcddcb94b6c52f007018107f5c68c9"
  },
  "kernelspec": {
   "display_name": "Python 3.7.13 ('venv': venv)",
   "language": "python",
   "name": "python3"
  },
  "language_info": {
   "codemirror_mode": {
    "name": "ipython",
    "version": 3
   },
   "file_extension": ".py",
   "mimetype": "text/x-python",
   "name": "python",
   "nbconvert_exporter": "python",
   "pygments_lexer": "ipython3",
   "version": "3.7.13"
  },
  "orig_nbformat": 4
 },
 "nbformat": 4,
 "nbformat_minor": 2
}
