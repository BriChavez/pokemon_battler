{
 "cells": [
  {
   "cell_type": "code",
   "execution_count": 2,
   "metadata": {},
   "outputs": [],
   "source": [
    "# Data cleaning:\n",
    "import re\n",
    "import codecs\n",
    "import pandas as pd\n",
    "from tabulate import tabulate\n",
    "from pprint import pprint\n",
    "import openpyxl\n",
    "\n",
    "\n",
    "def decode(input_filepath, output_filepath):\n",
    "    with codecs.open(input_filepath, \"r\") as input_file:\n",
    "        with codecs.open(output_filepath, \"w\", encoding=\"utf-8\") as output_file:\n",
    "            for line in input_file:\n",
    "                file_content = re.sub(\"\\t\", \",\", line)\n",
    "                output_file.write(file_content)\n",
    "\n",
    "\n",
    "decode(\"pokemon2-8.tsv\", \"pokemon.csv\")\n",
    "\n",
    "\n",
    "def df_import(csv_file):\n",
    "    poke_df = pd.read_csv(csv_file, index_col=\"national_number\")\n",
    "    return poke_df\n",
    "\n",
    "\n",
    "poke_df = df_import('pokemon.csv')\n",
    "\n",
    "\n",
    "def df_drop_add(dataframe):\n",
    "    \"\"\"\n",
    "    ## df_drop_add(dataframe)\n",
    "    removes a specific list of columns & adds a 'wins' and 'losses' column\n",
    "\n",
    "    *dataframe:\n",
    "    - takes a pandas dataframe\n",
    "    \"\"\"\n",
    "    # Columns to drop from dataframe\n",
    "    dataframe.drop(columns=[\n",
    "        'japanese_name',\n",
    "        'percent_male',\n",
    "        'percent_female',\n",
    "        'capture_rate',\n",
    "        'base_egg_steps',\n",
    "        'evochain_0',\n",
    "        'evochain_1',\n",
    "        'evochain_2',\n",
    "        'evochain_3',\n",
    "        'evochain_4',\n",
    "        'evochain_5',\n",
    "        'evochain_6',\n",
    "        'gigantamax',\n",
    "        'mega_evolution',\n",
    "        'mega_evolution_alt',\n",
    "    ],\n",
    "        axis=1,\n",
    "        inplace=True,\n",
    "    )\n",
    "    # Columns to add to dataframe\n",
    "    col_list = ['wins', 'losses']\n",
    "    for col in col_list:\n",
    "        if col not in dataframe.columns:\n",
    "            dataframe['wins'] = 0\n",
    "            dataframe['losses'] = 0\n",
    "        else:\n",
    "            pass\n",
    "    return dataframe\n",
    "\n",
    "\n",
    "\n",
    "df_drop_add(poke_df)\n",
    "\n",
    "poke_df.to_excel(\"poke_info.xlsx\", index_label=['national_number'], header=True)\n",
    "# poke_df = poke_df.style.background_gradient()\n",
    "# poke_df.head()\n",
    "# pprint(tabulate(poke_df, headers='keys', tablefmt='psql'))\n"
   ]
  },
  {
   "cell_type": "code",
   "execution_count": 3,
   "metadata": {},
   "outputs": [
    {
     "ename": "NameError",
     "evalue": "name 'app' is not defined",
     "output_type": "error",
     "traceback": [
      "\u001b[0;31m---------------------------------------------------------------------------\u001b[0m",
      "\u001b[0;31mNameError\u001b[0m                                 Traceback (most recent call last)",
      "\u001b[0;32m/tmp/ipykernel_21114/3678529263.py\u001b[0m in \u001b[0;36m<module>\u001b[0;34m\u001b[0m\n\u001b[0;32m----> 1\u001b[0;31m \u001b[0;34m@\u001b[0m\u001b[0mapp\u001b[0m\u001b[0;34m.\u001b[0m\u001b[0mroute\u001b[0m\u001b[0;34m(\u001b[0m\u001b[0;34m\"/\"\u001b[0m\u001b[0;34m)\u001b[0m\u001b[0;34m\u001b[0m\u001b[0;34m\u001b[0m\u001b[0m\n\u001b[0m\u001b[1;32m      2\u001b[0m \u001b[0;32mdef\u001b[0m \u001b[0mindex\u001b[0m\u001b[0;34m(\u001b[0m\u001b[0;34m)\u001b[0m\u001b[0;34m:\u001b[0m\u001b[0;34m\u001b[0m\u001b[0;34m\u001b[0m\u001b[0m\n\u001b[1;32m      3\u001b[0m     return \"\"\"<form action=\"\" method=get\">\n\u001b[1;32m      4\u001b[0m                 \u001b[0;34m<\u001b[0m\u001b[0minput\u001b[0m \u001b[0mtype\u001b[0m\u001b[0;34m=\u001b[0m\u001b[0;34m\"Select your pokemon\"\u001b[0m \u001b[0mname\u001b[0m \u001b[0;34m=\u001b[0m\u001b[0;34m\"pokemon\"\u001b[0m\u001b[0;34m>\u001b[0m\u001b[0;34m\u001b[0m\u001b[0;34m\u001b[0m\u001b[0m\n\u001b[1;32m      5\u001b[0m                 \u001b[0;34m<\u001b[0m\u001b[0minput\u001b[0m \u001b[0mtype\u001b[0m\u001b[0;34m=\u001b[0m\u001b[0;34m\"submit\"\u001b[0m \u001b[0mvalue\u001b[0m\u001b[0;34m=\u001b[0m\u001b[0;34m\"grabber\"\u001b[0m\u001b[0;34m>\u001b[0m\u001b[0;34m\u001b[0m\u001b[0;34m\u001b[0m\u001b[0m\n",
      "\u001b[0;31mNameError\u001b[0m: name 'app' is not defined"
     ]
    }
   ],
   "source": [
    "@app.route(\"/\")\n",
    "def index():\n",
    "    return \"\"\"<form action=\"\" method=get\">\n",
    "                <input type=\"Select your pokemon\" name =\"pokemon\">\n",
    "                <input type=\"submit\" value=\"I have chosen\">\n",
    "                </form>\"\"\"\n",
    "\n",
    "\n",
    "if __name__ == \"__main__\":\n",
    "    app.run(host=\"127.0.0.1\", port=8080, debug=True)\n"
   ]
  }
 ],
 "metadata": {
  "interpreter": {
   "hash": "0d6e35bed47359ffcd9c0d06035b9588b9dcddcb94b6c52f007018107f5c68c9"
  },
  "kernelspec": {
   "display_name": "Python 3.7.13 ('venv': venv)",
   "language": "python",
   "name": "python3"
  },
  "language_info": {
   "codemirror_mode": {
    "name": "ipython",
    "version": 3
   },
   "file_extension": ".py",
   "mimetype": "text/x-python",
   "name": "python",
   "nbconvert_exporter": "python",
   "pygments_lexer": "ipython3",
   "version": "3.7.13"
  },
  "orig_nbformat": 4
 },
 "nbformat": 4,
 "nbformat_minor": 2
}
