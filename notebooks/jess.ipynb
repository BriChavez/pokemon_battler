{
 "cells": [
  {
   "cell_type": "code",
   "execution_count": 6,
   "metadata": {},
   "outputs": [],
   "source": [
    "import re\n",
    "import codecs\n",
    "\n",
    "def decode(input_filepath, output_filepath):\n",
    "    with codecs.open(input_filepath, \"r\") as input_file:\n",
    "        with codecs.open(output_filepath, \"w\", encoding=\"utf-8\") as output_file:\n",
    "            for line in input_file:\n",
    "                file_content = re.sub(\"\\t\", \",\", line)\n",
    "                output_file.write(file_content)\n",
    "\n",
    "decode(\"pokemon2-8.tsv\", \"pokemon.csv\")\n"
   ]
  }
 ],
 "metadata": {
  "interpreter": {
   "hash": "48be4b9138f76d43edcd11e8c8e56e55f4e2cc6c834e4356ed59883bb4c523ed"
  },
  "kernelspec": {
   "display_name": "Python 3.7.13 ('venv': venv)",
   "language": "python",
   "name": "python3"
  },
  "language_info": {
   "codemirror_mode": {
    "name": "ipython",
    "version": 3
   },
   "file_extension": ".py",
   "mimetype": "text/x-python",
   "name": "python",
   "nbconvert_exporter": "python",
   "pygments_lexer": "ipython3",
   "version": "3.7.13"
  },
  "orig_nbformat": 4
 },
 "nbformat": 4,
 "nbformat_minor": 2
}
