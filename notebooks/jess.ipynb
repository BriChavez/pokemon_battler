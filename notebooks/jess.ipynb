{
 "cells": [
  {
   "cell_type": "code",
   "execution_count": 7,
   "metadata": {},
   "outputs": [
    {
     "name": "stdout",
     "output_type": "stream",
     "text": [
      " * Serving Flask app '__main__' (lazy loading)\n",
      " * Environment: production\n",
      "\u001b[31m   WARNING: This is a development server. Do not use it in a production deployment.\u001b[0m\n",
      "\u001b[2m   Use a production WSGI server instead.\u001b[0m\n",
      " * Debug mode: off\n"
     ]
    },
    {
     "name": "stderr",
     "output_type": "stream",
     "text": [
      " * Running on all addresses (0.0.0.0)\n",
      "   WARNING: This is a development server. Do not use it in a production deployment.\n",
      " * Running on http://127.0.0.1:8080\n",
      " * Running on http://172.25.211.59:8080 (Press CTRL+C to quit)\n"
     ]
    }
   ],
   "source": [
    "import re\n",
    "import codecs\n",
    "import pandas as pd\n",
    "from flask import Flask, request\n",
    "\n",
    "def decode(input_filepath, output_filepath):\n",
    "    with codecs.open(input_filepath, \"r\") as input_file:\n",
    "        with codecs.open(output_filepath, \"w\", encoding=\"utf-8\") as output_file:\n",
    "            for line in input_file:\n",
    "                file_content = re.sub(\"\\t\", \",\", line)\n",
    "                output_file.write(file_content)\n",
    "\n",
    "decode(\"pokemon2-8.tsv\", \"pokemon.csv\")\n",
    "\n",
    "def df_import(csv_file):\n",
    "    poke_df = pd.read_csv(csv_file, index_col=\"english_name\")\n",
    "    return poke_df\n",
    "\n",
    "df_import('pokemon.csv')\n",
    "\n",
    "app = Flask(__name__)\n",
    "poke_df = df_import('pokemon.csv')\n",
    "app.config[\"db\"] = poke_df\n",
    "\n",
    "@app.route(\"/pokedex\", methods=[\"GET\"])\n",
    "def pokedex_data():\n",
    "    \"\"\"\n",
    "    HTTP GET: Query for Pokemon \n",
    "    \"\"\"\n",
    "    global poke_df\n",
    "    name = request.args.get(\"name\", default=None)\n",
    "    if name is not None:\n",
    "        result_df = poke_df.loc[poke_df[\"english_name\"] == name]\n",
    "    else:\n",
    "        print(\"Please enter a valid Pokemon!\")\n",
    "    resp_json = {\n",
    "        \"query_name\": name,\n",
    "        \"result\": result_df.to_dict(orient=\"records\"),\n",
    "    }\n",
    "    resp_headers = {\n",
    "        \"content-type\": \"application/json\",\n",
    "    }\n",
    "\n",
    "    return resp_json, 200, resp_headers\n",
    "\n",
    "if __name__ == '__main__':\n",
    "    app.run('0.0.0.0', 8080)\n",
    "\n"
   ]
  },
  {
   "cell_type": "code",
   "execution_count": 8,
   "metadata": {},
   "outputs": [
    {
     "data": {
      "text/plain": [
       "49"
      ]
     },
     "execution_count": 8,
     "metadata": {},
     "output_type": "execute_result"
    }
   ],
   "source": [
    "# Battler Logic\n",
    "def stat_grab(pokemon, stat):\n",
    "    poke_df = df_import('pokemon.csv')\n",
    "    stat = poke_df.at[pokemon, stat]\n",
    "    return stat\n",
    "\n",
    "poke1_attack = stat_grab('Bulbasaur', 'attack')\n",
    "poke1_defense = stat_grab('Bulbasaur', 'defense')\n",
    "poke1_speed = stat_grab('Bulbasaur', 'speed')\n",
    "\n",
    "poke1_attack = stat_grab('Charmander', 'attack')\n",
    "poke1_defense = stat_grab('Charmander', 'defense')\n",
    "poke1_speed = stat_grab('Charmander', 'speed')\n",
    "\n",
    "# poke_battle()"
   ]
  }
 ],
 "metadata": {
  "interpreter": {
   "hash": "48be4b9138f76d43edcd11e8c8e56e55f4e2cc6c834e4356ed59883bb4c523ed"
  },
  "kernelspec": {
   "display_name": "Python 3.7.13 ('venv': venv)",
   "language": "python",
   "name": "python3"
  },
  "language_info": {
   "codemirror_mode": {
    "name": "ipython",
    "version": 3
   },
   "file_extension": ".py",
   "mimetype": "text/x-python",
   "name": "python",
   "nbconvert_exporter": "python",
   "pygments_lexer": "ipython3",
   "version": "3.7.13"
  },
  "orig_nbformat": 4
 },
 "nbformat": 4,
 "nbformat_minor": 2
}
