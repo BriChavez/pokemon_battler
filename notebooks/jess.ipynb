{
 "cells": [
  {
   "cell_type": "code",
   "execution_count": 21,
   "metadata": {},
   "outputs": [
    {
     "name": "stdout",
     "output_type": "stream",
     "text": [
      " * Serving Flask app '__main__' (lazy loading)\n",
      " * Environment: production\n",
      "\u001b[31m   WARNING: This is a development server. Do not use it in a production deployment.\u001b[0m\n",
      "\u001b[2m   Use a production WSGI server instead.\u001b[0m\n",
      " * Debug mode: off\n"
     ]
    },
    {
     "name": "stderr",
     "output_type": "stream",
     "text": [
      " * Running on all addresses (0.0.0.0)\n",
      "   WARNING: This is a development server. Do not use it in a production deployment.\n",
      " * Running on http://127.0.0.1:8080\n",
      " * Running on http://172.25.211.59:8080 (Press CTRL+C to quit)\n",
      "[2022-06-06 14:38:16,910] ERROR in app: Exception on /pokedex [GET]\n",
      "Traceback (most recent call last):\n",
      "  File \"/home/jessgschu/pokemon_battler/venv/lib/python3.7/site-packages/flask/app.py\", line 2077, in wsgi_app\n",
      "    response = self.full_dispatch_request()\n",
      "  File \"/home/jessgschu/pokemon_battler/venv/lib/python3.7/site-packages/flask/app.py\", line 1525, in full_dispatch_request\n",
      "    rv = self.handle_user_exception(e)\n",
      "  File \"/home/jessgschu/pokemon_battler/venv/lib/python3.7/site-packages/flask/app.py\", line 1523, in full_dispatch_request\n",
      "    rv = self.dispatch_request()\n",
      "  File \"/home/jessgschu/pokemon_battler/venv/lib/python3.7/site-packages/flask/app.py\", line 1509, in dispatch_request\n",
      "    return self.ensure_sync(self.view_functions[rule.endpoint])(**req.view_args)\n",
      "  File \"/tmp/ipykernel_22658/661821783.py\", line 38, in pokedex_data\n",
      "    \"result\": result_df.to_dict(orient=\"records\"),\n",
      "UnboundLocalError: local variable 'result_df' referenced before assignment\n",
      "127.0.0.1 - - [06/Jun/2022 14:38:16] \"\u001b[35m\u001b[1mGET /pokedex HTTP/1.1\u001b[0m\" 500 -\n"
     ]
    },
    {
     "name": "stdout",
     "output_type": "stream",
     "text": [
      "Please enter a valid Pokemon!\n"
     ]
    },
    {
     "name": "stderr",
     "output_type": "stream",
     "text": [
      "[2022-06-06 14:38:20,202] ERROR in app: Exception on /pokedex [GET]\n",
      "Traceback (most recent call last):\n",
      "  File \"/home/jessgschu/pokemon_battler/venv/lib/python3.7/site-packages/flask/app.py\", line 2077, in wsgi_app\n",
      "    response = self.full_dispatch_request()\n",
      "  File \"/home/jessgschu/pokemon_battler/venv/lib/python3.7/site-packages/flask/app.py\", line 1525, in full_dispatch_request\n",
      "    rv = self.handle_user_exception(e)\n",
      "  File \"/home/jessgschu/pokemon_battler/venv/lib/python3.7/site-packages/flask/app.py\", line 1523, in full_dispatch_request\n",
      "    rv = self.dispatch_request()\n",
      "  File \"/home/jessgschu/pokemon_battler/venv/lib/python3.7/site-packages/flask/app.py\", line 1509, in dispatch_request\n",
      "    return self.ensure_sync(self.view_functions[rule.endpoint])(**req.view_args)\n",
      "  File \"/tmp/ipykernel_22658/661821783.py\", line 38, in pokedex_data\n",
      "    \"result\": result_df.to_dict(orient=\"records\"),\n",
      "UnboundLocalError: local variable 'result_df' referenced before assignment\n",
      "127.0.0.1 - - [06/Jun/2022 14:38:20] \"\u001b[35m\u001b[1mGET /pokedex HTTP/1.1\u001b[0m\" 500 -\n"
     ]
    },
    {
     "name": "stdout",
     "output_type": "stream",
     "text": [
      "Please enter a valid Pokemon!\n"
     ]
    }
   ],
   "source": [
    "import re\n",
    "import codecs\n",
    "import pandas as pd\n",
    "from flask import Flask, request\n",
    "\n",
    "def decode(input_filepath, output_filepath):\n",
    "    with codecs.open(input_filepath, \"r\") as input_file:\n",
    "        with codecs.open(output_filepath, \"w\", encoding=\"utf-8\") as output_file:\n",
    "            for line in input_file:\n",
    "                file_content = re.sub(\"\\t\", \",\", line)\n",
    "                output_file.write(file_content)\n",
    "\n",
    "decode(\"pokemon2-8.tsv\", \"pokemon.csv\")\n",
    "\n",
    "def df_import(csv_file):\n",
    "    poke_df = pd.read_csv(csv_file, index_col=\"national_number\")\n",
    "    return poke_df\n",
    "\n",
    "df_import('pokemon.csv')\n",
    "\n",
    "app = Flask(__name__)\n",
    "poke_df = df_import('pokemon.csv')\n",
    "app.config[\"db\"] = poke_df\n",
    "\n",
    "@app.route(\"/pokedex\", methods=[\"GET\"])\n",
    "def pokedex_data():\n",
    "    \"\"\"\n",
    "    HTTP GET: Query for Pokemon \n",
    "    \"\"\"\n",
    "    global poke_df\n",
    "    name = request.args.get(\"name\", default=None)\n",
    "    if name is not None:\n",
    "        result_df = poke_df.loc[poke_df[\"english_name\"] == name]\n",
    "    else:\n",
    "        print(\"Please enter a valid Pokemon!\")\n",
    "    resp_json = {\n",
    "        \"query_name\": name,\n",
    "        \"result\": result_df.to_dict(orient=\"records\"),\n",
    "    }\n",
    "    resp_headers = {\n",
    "        \"content-type\": \"application/json\",\n",
    "    }\n",
    "\n",
    "    return resp_json, 200, resp_headers\n",
    "\n",
    "if __name__ == '__main__':\n",
    "    app.run('0.0.0.0', 8080)\n",
    "\n"
   ]
  }
 ],
 "metadata": {
  "interpreter": {
   "hash": "48be4b9138f76d43edcd11e8c8e56e55f4e2cc6c834e4356ed59883bb4c523ed"
  },
  "kernelspec": {
   "display_name": "Python 3.7.13 ('venv': venv)",
   "language": "python",
   "name": "python3"
  },
  "language_info": {
   "codemirror_mode": {
    "name": "ipython",
    "version": 3
   },
   "file_extension": ".py",
   "mimetype": "text/x-python",
   "name": "python",
   "nbconvert_exporter": "python",
   "pygments_lexer": "ipython3",
   "version": "3.7.13"
  },
  "orig_nbformat": 4
 },
 "nbformat": 4,
 "nbformat_minor": 2
}
